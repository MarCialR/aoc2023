{
 "cells": [
  {
   "cell_type": "code",
   "execution_count": 17,
   "id": "19c2184b-ab14-4941-a6fa-ee14848cc7bf",
   "metadata": {},
   "outputs": [
    {
     "data": {
      "text/markdown": [
       "https://adventofcode.com/2023/day/1\n",
       "## --- Day 1: Trebuchet?! ---\n",
       "\n",
       "\n",
       "Something is wrong with global snow production, and you've been selected to take a look. The Elves have even given you a map; on it, they've used stars to mark the top fifty locations that are likely to be having problems.\n",
       "\n",
       "\n",
       "You've been doing this long enough to know that to restore snow operations, you need to check all **fifty stars** by December 25th.\n",
       "\n",
       "\n",
       "Collect stars by solving puzzles.  Two puzzles will be made available on each day in the Advent calendar; the second puzzle is unlocked when you complete the first.  Each puzzle grants **one star** . Good luck!\n",
       "\n",
       "\n",
       "You try to ask why they can't just use a [weather machine](/2015/day/1) (\"not powerful enough\") and where they're even sending you (\"the sky\") and why your map looks mostly blank (\"you sure ask a lot of questions\")andhang on did you just say the sky (\"of course, where do you think snow comes from\") when you realize that the Elves are already loading you into a [trebuchet](https://en.wikipedia.org/wiki/Trebuchet) (\"please hold still, we need to strap you in\").\n",
       "\n",
       "\n",
       "As they're making the final adjustments, they discover that their calibration document (your puzzle input) has been **amended** by a very young Elf who was apparently just excited to show off her art skills. Consequently, the Elves are having trouble reading the values on the document.\n",
       "\n",
       "\n",
       "The newly-improved calibration document consists of lines of text; each line originally contained a specific **calibration value** that the Elves now need to recover. On each line, the calibration value can be found by combining the **first digit** and the **last digit** (in that order) to form a single **two-digit number** .\n",
       "\n",
       "\n",
       "For example:\n",
       "\n",
       "\n",
       "```\n",
       " 1abc2\n",
       " pqr3stu8vwx\n",
       " a1b2c3d4e5f\n",
       " treb7uchet\n",
       "\n",
       "```\n",
       "\n",
       "\n",
       "In this example, the calibration values of these four lines are12``,38``,15``, and77``. Adding these together produces142``.\n",
       "\n",
       "\n",
       "Consider your entire calibration document. **What is the sum of all of the calibration values?** \n",
       "\n",
       "\n"
      ]
     },
     "metadata": {},
     "output_type": "display_data"
    }
   ],
   "source": [
    "from tools import get_puzzle, show_problem_1, show_problem_2\n",
    "\n",
    "TODAY = 1\n",
    "puzzle = get_puzzle(TODAY)\n",
    "show_problem_1(puzzle)"
   ]
  },
  {
   "cell_type": "code",
   "execution_count": 18,
   "id": "86a18323-b29d-4772-97bd-3b22ba1bc13f",
   "metadata": {},
   "outputs": [
    {
     "name": "stdout",
     "output_type": "stream",
     "text": [
      "Solution 1:  54390 is the sum of all of the calibration values\n"
     ]
    }
   ],
   "source": [
    "test=''' 1abc2\n",
    " pqr3stu8vwx\n",
    " a1b2c3d4e5f\n",
    " treb7uchet'''.splitlines()\n",
    "\n",
    "def get_nums(st):\n",
    "    l = len(st)\n",
    "    n,x = -1,-1\n",
    "    for i in range(l):\n",
    "        if 48 <= ord(st[i]) <=57:\n",
    "            n=st[i]\n",
    "            break\n",
    "    for i in range(l):\n",
    "        #this one was tricky as it needs an extra \"-1\"\n",
    "        if 48 <= ord(st[-i-1]) <=57:\n",
    "            x=st[-i-1]\n",
    "            break\n",
    "    #print (st + \" -> \" + n + x)\n",
    "    return n+x\n",
    "\n",
    "    \n",
    "def solution_1(data):\n",
    "    total = 0\n",
    "    for st in data:\n",
    "        total+=int(get_nums(st))\n",
    "    return total\n",
    "\n",
    "assert solution_1 (puzzle.test) == 142\n",
    "      \n",
    "print( f\"Solution 1:  {solution_1 (puzzle.data)} is the sum of all of the calibration values\")"
   ]
  },
  {
   "cell_type": "code",
   "execution_count": 19,
   "id": "627deef2-19a7-4743-bd9b-e50048dbbe80",
   "metadata": {},
   "outputs": [
    {
     "data": {
      "text/markdown": [
       "## --- Part Two ---\n",
       "\n",
       "\n",
       "Your calculation isn't quite right. It looks like some of the digits are actually **spelled out with letters** :one``,two``,three``,four``,five``,six``,seven``,eight``, andnine`` **also** count as valid \"digits\".\n",
       "\n",
       "\n",
       "Equipped with this new information, you now need to find the real first and last digit on each line. For example:\n",
       "\n",
       "\n",
       "```\n",
       " two1nine\n",
       " eightwothree\n",
       " abcone2threexyz\n",
       " xtwone3four\n",
       " 4nineeightseven2\n",
       " zoneight234\n",
       " 7pqrstsixteen\n",
       "\n",
       "```\n",
       "\n",
       "\n",
       "In this example, the calibration values are29``,83``,13``,24``,42``,14``, and76``. Adding these together produces281``.\n",
       "\n",
       "\n",
       " **What is the sum of all of the calibration values?** \n",
       "\n",
       "\n"
      ]
     },
     "metadata": {},
     "output_type": "display_data"
    }
   ],
   "source": [
    "show_problem_2(puzzle)"
   ]
  },
  {
   "cell_type": "code",
   "execution_count": 29,
   "id": "402752bc-b1bb-4411-9d87-56a8dc620d45",
   "metadata": {},
   "outputs": [
    {
     "name": "stdout",
     "output_type": "stream",
     "text": [
      "Solution 2:  54277 is the sum of all of the calibration values\n"
     ]
    }
   ],
   "source": [
    "test='''two1nine\n",
    "eightwothree\n",
    "abcone2threexyz\n",
    "xtwone3four\n",
    "4nineeightseven2\n",
    "zoneight234\n",
    "7pqrstsixteen'''.splitlines()\n",
    "\n",
    "import re\n",
    "\n",
    "forward = re.compile(\"(\\d|one|two|three|four|five|six|seven|eight|nine)\")\n",
    "reverse = re.compile(\"(\\d|enin|thgie|neves|xis|evif|ruof|eerht|owt|eno)\")\n",
    "\n",
    "def get_num(st):\n",
    "    if len(st) == 1:\n",
    "        return int(st)\n",
    "    else:\n",
    "        for i, text in enumerate([\"zero\",\"one\",\"two\",\"three\",\"four\",\"five\",\"six\",\"seven\",\"eight\",\"nine\"]):\n",
    "            if st == text:\n",
    "                return i\n",
    "    raise Exception(\"bad input in get_num\")\n",
    "\n",
    "def get_nums2(st):\n",
    "    l = get_num(forward.search(st).group())\n",
    "    r = get_num(reverse.search(st[::-1]).group()[::-1])\n",
    "    return int(str(l)+str(r))\n",
    "\n",
    "    \n",
    "def solution_2(data):\n",
    "    total = 0\n",
    "    for st in data:\n",
    "        total+=get_nums2(st)\n",
    "    return total\n",
    "\n",
    "assert solution_2 (puzzle.test) == 142\n",
    "      \n",
    "print( f\"Solution 2:  {solution_2 (puzzle.data)} is the sum of all of the calibration values\")"
   ]
  }
 ],
 "metadata": {
  "kernelspec": {
   "display_name": "Python 3",
   "language": "python",
   "name": "python3"
  },
  "language_info": {
   "codemirror_mode": {
    "name": "ipython",
    "version": 3
   },
   "file_extension": ".py",
   "mimetype": "text/x-python",
   "name": "python",
   "nbconvert_exporter": "python",
   "pygments_lexer": "ipython3",
   "version": "3.11.6"
  },
  "vscode": {
   "interpreter": {
    "hash": "916dbcbb3f70747c44a77c7bcd40155683ae19c65e1c03b4aa3499c5328201f1"
   }
  }
 },
 "nbformat": 4,
 "nbformat_minor": 5
}
