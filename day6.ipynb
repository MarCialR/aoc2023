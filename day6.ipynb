{
 "cells": [
  {
   "cell_type": "code",
   "execution_count": 2,
   "metadata": {},
   "outputs": [
    {
     "data": {
      "text/markdown": [
       "https://adventofcode.com/2023/day/6\n",
       "## --- Day 6: Wait For It ---\n",
       "\n",
       "\n",
       "The ferry quickly brings you across Island Island. After asking around, you discover that there is indeed normally a large pile of sand somewhere near here, but you don't see anything besides lots of water and the small island where the ferry has docked.\n",
       "\n",
       "\n",
       "As you try to figure out what to do next, you notice a poster on a wall near the ferry dock. \"Boat races! Open to the public! Grand prize is an all-expenses-paid trip to **Desert Island** !\" That must be where the sand comes from! Best of all, the boat races are starting in just a few minutes.\n",
       "\n",
       "\n",
       "You manage to sign up as a competitor in the boat races just in time. The organizer explains that it's not really a traditional race - instead, you will get a fixed amount of time during which your boat has to travel as far as it can, and you win if your boat goes the farthest.\n",
       "\n",
       "\n",
       "As part of signing up, you get a sheet of paper (your puzzle input) that lists the **time** allowed for each race and also the best **distance** ever recorded in that race. To guarantee you win the grand prize, you need to make sure you **go farther in each race** than the current record holder.\n",
       "\n",
       "\n",
       "The organizer brings you over to the area where the boat races are held. The boats are much smaller than you expected - they're actually **toy boats** , each with a big button on top. Holding down the button **charges the boat** , and releasing the button **allows the boat to move** . Boats move faster if their button was held longer, but time spent holding the button counts against the total race time. You can only hold the button at the start of the race, and boats don't move until the button is released.\n",
       "\n",
       "\n",
       "For example:\n",
       "\n",
       "\n",
       "```\n",
       " Time:      7  15   30\n",
       " Distance:  9  40  200\n",
       "\n",
       "```\n",
       "\n",
       "\n",
       "This document describes three races:\n",
       "\n",
       "\n",
       "+ The first race lasts 7 milliseconds. The record distance in this race is 9 millimeters.\n",
       "+ The second race lasts 15 milliseconds. The record distance in this race is 40 millimeters.\n",
       "+ The third race lasts 30 milliseconds. The record distance in this race is 200 millimeters.\n",
       "\n",
       "\n",
       "Your toy boat has a starting speed of **zero millimeters per millisecond** . For each whole millisecond you spend at the beginning of the race holding down the button, the boat's speed increases by **one millimeter per millisecond** .\n",
       "\n",
       "\n",
       "So, because the first race lasts 7 milliseconds, you only have a few options:\n",
       "\n",
       "\n",
       "+ Don't hold the button at all (that is, hold it for **0``milliseconds** ) at the start of the race. The boat won't move; it will have traveled **0``millimeters** by the end of the race.\n",
       "+ Hold the button for **1``millisecond** at the start of the race. Then, the boat will travel at a speed of1``millimeter per millisecond for 6 milliseconds, reaching a total distance traveled of **6``millimeters** .\n",
       "+ Hold the button for **2``milliseconds** , giving the boat a speed of2``millimeters per millisecond. It will then get 5 milliseconds to move, reaching a total distance of **10``millimeters** .\n",
       "+ Hold the button for **3``milliseconds** . After its remaining 4 milliseconds of travel time, the boat will have gone **12``millimeters** .\n",
       "+ Hold the button for **4``milliseconds** . After its remaining 3 milliseconds of travel time, the boat will have gone **12``millimeters** .\n",
       "+ Hold the button for **5``milliseconds** , causing the boat to travel a total of **10``millimeters** .\n",
       "+ Hold the button for **6``milliseconds** , causing the boat to travel a total of **6``millimeters** .\n",
       "+ Hold the button for **7``milliseconds** . That's the entire duration of the race. You never let go of the button. The boat can't move until you let go of the button. Please make sure you let go of the button so the boat gets to move. **0``millimeters** .\n",
       "\n",
       "\n",
       "Since the current record for this race is9``millimeters, there are actually4``different ways you could win: you could hold the button for2``,3``,4``, or5``milliseconds at the start of the race.\n",
       "\n",
       "\n",
       "In the second race, you could hold the button for at least4``milliseconds and at most11``milliseconds and beat the record, a total of8``different ways to win.\n",
       "\n",
       "\n",
       "In the third race, you could hold the button for at least11``milliseconds and no more than19``milliseconds and still beat the record, a total of9``ways you could win.\n",
       "\n",
       "\n",
       "To see how much margin of error you have, determine the **number of ways you can beat the record** in each race; in this example, if you multiply these values together, you get288``(4``*8``*9``).\n",
       "\n",
       "\n",
       "Determine the number of ways you could beat the record in each race. **What do you get if you multiply these numbers together?** \n",
       "\n",
       "\n"
      ]
     },
     "metadata": {},
     "output_type": "display_data"
    }
   ],
   "source": [
    "from tools import get_puzzle, show_problem_1, show_problem_2, pd\n",
    "\n",
    "TODAY = 6\n",
    "puzzle = get_puzzle(TODAY)\n",
    "show_problem_1(puzzle)"
   ]
  },
  {
   "cell_type": "code",
   "execution_count": 3,
   "metadata": {},
   "outputs": [
    {
     "name": "stdout",
     "output_type": "stream",
     "text": [
      "Solution 1:  1710720 is the multiplication of the number of ways you can beat the record in each race\n"
     ]
    }
   ],
   "source": [
    "from itertools import accumulate\n",
    "\n",
    "DEBUG = False\n",
    "\n",
    "def parse_data(data):\n",
    "    times = map(int,data[0].split()[1:])\n",
    "    dists = map(int,data[1].split()[1:])\n",
    "    return list(zip(times,dists))\n",
    "\n",
    "\n",
    "def solve(time, distance):\n",
    "    solutions = 0\n",
    "    for time_pressed in range(time):\n",
    "        speed = time_pressed * 1\n",
    "        distance_made = (time-time_pressed) * speed\n",
    "        if distance_made > distance:\n",
    "            solutions +=1\n",
    "    return solutions\n",
    "\n",
    "\n",
    "def solution_1(data):\n",
    "    pairs = parse_data(data)\n",
    "    solutions = []\n",
    "    for pair in pairs:\n",
    "        solutions.append (solve(*pair))\n",
    "        #print(f\" {pair} {solve(*pair)}\")\n",
    "    return list(accumulate(solutions, lambda a,b: a*b))[-1]\n",
    "\n",
    "\n",
    "assert solution_1 (puzzle.test) == 288\n",
    "\n",
    "print( f\"Solution 1:  {solution_1 (puzzle.data)} is the multiplication of the number of ways you can beat the record in each race\") # 1710720 0.1s"
   ]
  },
  {
   "cell_type": "code",
   "execution_count": 4,
   "metadata": {},
   "outputs": [
    {
     "data": {
      "text/markdown": [
       "## --- Part Two ---\n",
       "\n",
       "\n",
       "As the race is about to start, you realize the piece of paper with race times and record distances you got earlier actually just hasvery bad [kerning](https://en.wikipedia.org/wiki/Kerning) . There's really **only one race** - ignore the spaces between the numbers on each line.\n",
       "\n",
       "\n",
       "So, the example from before:\n",
       "\n",
       "\n",
       "```\n",
       " Time:      7  15   30\n",
       " Distance:  9  40  200\n",
       "\n",
       "```\n",
       "\n",
       "\n",
       "...now instead means this:\n",
       "\n",
       "\n",
       "```\n",
       " Time:      71530\n",
       " Distance:  940200\n",
       "\n",
       "```\n",
       "\n",
       "\n",
       "Now, you have to figure out how many ways there are to win this single race. In this example, the race lasts for **71530``milliseconds** and the record distance you need to beat is **940200``millimeters** . You could hold the button anywhere from14``to71516``milliseconds and beat the record, a total of71503``ways!\n",
       "\n",
       "\n",
       " **How many ways can you beat the record in this one much longer race?** \n",
       "\n",
       "\n"
      ]
     },
     "metadata": {},
     "output_type": "display_data"
    }
   ],
   "source": [
    "show_problem_2(puzzle)"
   ]
  },
  {
   "cell_type": "code",
   "execution_count": 25,
   "metadata": {},
   "outputs": [
    {
     "name": "stdout",
     "output_type": "stream",
     "text": [
      "time:71530  distance:940200  \n",
      "Upper limit = 71516\n",
      "lower limit = 14\n",
      "time:56977793  distance:499221010971440  \n",
      "Upper limit = 46163630\n",
      "lower limit = 10814163\n",
      "Solution 2:  35349468 is the multiplication of the number of ways you can beat the record in the longer race\n"
     ]
    }
   ],
   "source": [
    "DEBUG = False\n",
    "\n",
    "def parse_data2(data):\n",
    "    time = int(\"\".join(data[0].split()[1:]))\n",
    "    dist = int(\"\".join(data[1].split()[1:]))\n",
    "    return time, dist\n",
    "   \n",
    "def beats_race(time, distance, time_pressed):\n",
    "    speed = time_pressed * 1\n",
    "    distance_made = (time-time_pressed) * speed\n",
    "    return distance_made > distance\n",
    "\n",
    "def binary_search_up(time, distance, low, high, solving):\n",
    "    if high - low <=1:\n",
    "        for val in [low-2,low-1, low, low+1, low+2]:\n",
    "            if not beats_race(time, distance, val):\n",
    "                print( f\"Upper limit = {val-1}\" )\n",
    "                return val-1\n",
    "    mid = (high + low) // 2\n",
    "    # If element is present at the middle itself\n",
    "    if bool(beats_race(time, distance, mid)) == solving:\n",
    "        if solving:\n",
    "            return binary_search_up(time, distance, mid + 1, high, solving)\n",
    "        else:\n",
    "            return binary_search_up(time, distance, low, mid - 1, not solving)\n",
    "    else:\n",
    "        if solving:\n",
    "            return binary_search_up(time, distance, low, mid - 1, not solving)\n",
    "        else:\n",
    "            return binary_search_up(time, distance, mid + 1, high, solving)\n",
    "        \n",
    "def binary_search_down(time, distance, low, high, solving):\n",
    "    # Check base case\n",
    "    if high - low <=1:\n",
    "        for val in [low-2,low-1, low, low+1,low+2]:\n",
    "            if beats_race(time, distance, val):\n",
    "                print( f\"lower limit = {val}\" )\n",
    "                return val\n",
    "    mid = (high + low) // 2\n",
    "    # If element is present at the middle itself\n",
    "    if bool(beats_race(time, distance, mid)) == solving:\n",
    "        if solving:\n",
    "            return binary_search_down(time, distance, low, mid - 1, solving)\n",
    "        else:\n",
    "            return binary_search_down(time, distance, mid + 1, high, not solving)\n",
    "    else:\n",
    "        if solving:\n",
    "            return binary_search_down(time, distance, mid + 1, high, not solving)\n",
    "        else:\n",
    "            return binary_search_down(time, distance, low, mid - 1, solving)\n",
    "\n",
    "\n",
    "\n",
    "\n",
    "\n",
    "def solution_2(data):\n",
    "    time, distance = parse_data2(data)\n",
    "    pd(time, distance)\n",
    "    \n",
    "    result1 = binary_search_up(time, distance, time//2, time, True)\n",
    "    result2 = binary_search_down(time, distance, 0, time//2, True)    \n",
    "\n",
    "    return result1-result2+1\n",
    "\n",
    "\n",
    "assert solution_2 (puzzle.test) == 71503\n",
    "print( f\"Solution 2:  {solution_2 (puzzle.data)} is the multiplication of the number of ways you can beat the record in the longer race\") # 35349468 0.1s\n"
   ]
  }
 ],
 "metadata": {
  "kernelspec": {
   "display_name": "Python 3",
   "language": "python",
   "name": "python3"
  },
  "language_info": {
   "codemirror_mode": {
    "name": "ipython",
    "version": 3
   },
   "file_extension": ".py",
   "mimetype": "text/x-python",
   "name": "python",
   "nbconvert_exporter": "python",
   "pygments_lexer": "ipython3",
   "version": "3.11.6"
  },
  "orig_nbformat": 4,
  "vscode": {
   "interpreter": {
    "hash": "916dbcbb3f70747c44a77c7bcd40155683ae19c65e1c03b4aa3499c5328201f1"
   }
  }
 },
 "nbformat": 4,
 "nbformat_minor": 2
}
