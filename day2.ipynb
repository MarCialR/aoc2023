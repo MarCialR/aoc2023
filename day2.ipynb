{
 "cells": [
  {
   "cell_type": "code",
   "execution_count": 6,
   "id": "29d3ad04-6d65-465c-96d9-56386d5ecfbb",
   "metadata": {},
   "outputs": [
    {
     "name": "stdout",
     "output_type": "stream",
     "text": [
      "Note: Puzzle inputs differ by user\n",
      "Place your puzzle data in a file ./data/test2.txt in the data folder\n"
     ]
    },
    {
     "data": {
      "text/markdown": [
       "## --- Day 2: Cube Conundrum ---\n",
       "\n",
       "\n",
       "You're launched high into the atmosphere! The apex of your trajectory just barely reaches the surface of a large island floating in the sky. You gently land in a fluffy pile of leaves. It's quite cold, but you don't see much snow. An Elf runs over to greet you.\n",
       "\n",
       "\n",
       "The Elf explains that you've arrived at **Snow Island** and apologizes for the lack of snow. He'll be happy to explain the situation, but it's a bit of a walk, so you have some time. They don't get many visitors up here;would you like to play a gamein the meantime?\n",
       "\n",
       "\n",
       "As you walk, the Elf shows you a small bag and some cubes which are either red, green, or blue. Each time you play this game, he will hide a secret number of cubes of each color in the bag, and your goal is to figure out information about the number of cubes.\n",
       "\n",
       "\n",
       "To get information, once a bag has been loaded with cubes, the Elf will reach into the bag, grab a handful of random cubes, show them to you, and then put them back in the bag. He'll do this a few times per game.\n",
       "\n",
       "\n",
       "You play several games and record the information from each game (your puzzle input). Each game is listed with its ID number (like the11``inGame 11: ...``) followed by a semicolon-separated list of subsets of cubes that were revealed from the bag (like3 red, 5 green, 4 blue``).\n",
       "\n",
       "\n",
       "For example, the record of a few games might look like this:\n",
       "\n",
       "\n",
       "```\n",
       " Game 1: 3 blue, 4 red; 1 red, 2 green, 6 blue; 2 green\n",
       " Game 2: 1 blue, 2 green; 3 green, 4 blue, 1 red; 1 green, 1 blue\n",
       " Game 3: 8 green, 6 blue, 20 red; 5 blue, 4 red, 13 green; 5 green, 1 red\n",
       " Game 4: 1 green, 3 red, 6 blue; 3 green, 6 red; 3 green, 15 blue, 14 red\n",
       " Game 5: 6 red, 1 blue, 3 green; 2 blue, 1 red, 2 green\n",
       "\n",
       "```\n",
       "\n",
       "\n",
       "In game 1, three sets of cubes are revealed from the bag (and then put back again). The first set is 3 blue cubes and 4 red cubes; the second set is 1 red cube, 2 green cubes, and 6 blue cubes; the third set is only 2 green cubes.\n",
       "\n",
       "\n",
       "The Elf would first like to know which games would have been possible if the bag contained **only 12 red cubes, 13 green cubes, and 14 blue cubes** ?\n",
       "\n",
       "\n",
       "In the example above, games 1, 2, and 5 would have been **possible** if the bag had been loaded with that configuration. However, game 3 would have been **impossible** because at one point the Elf showed you 20 red cubes at once; similarly, game 4 would also have been **impossible** because the Elf showed you 15 blue cubes at once. If you add up the IDs of the games that would have been possible, you get8``.\n",
       "\n",
       "\n",
       "Determine which games would have been possible if the bag had been loaded with only 12 red cubes, 13 green cubes, and 14 blue cubes. **What is the sum of the IDs of those games?** \n",
       "\n",
       "\n"
      ]
     },
     "metadata": {},
     "output_type": "display_data"
    }
   ],
   "source": [
    "from tools import get_puzzle, show_problem_1\n",
    "TODAY = 2\n",
    "puzzle = get_puzzle(TODAY)\n",
    "show_problem_1(puzzle)"
   ]
  },
  {
   "cell_type": "code",
   "execution_count": 34,
   "id": "283b06de-4ecf-4c14-b5b2-1270a71baf99",
   "metadata": {},
   "outputs": [
    {
     "name": "stdout",
     "output_type": "stream",
     "text": [
      "Solution 1:  2076 is the sum od the IDs of the valid games\n"
     ]
    }
   ],
   "source": [
    "import re\n",
    "\n",
    "def zip_rgb(sets):\n",
    "    result = []\n",
    "    maxs = [0,0,0]\n",
    "    for s in sets:\n",
    "        rgb= [0,0,0]\n",
    "        pixels = s.split(',')\n",
    "        for pix in pixels:\n",
    "            last = pix[-1]\n",
    "            idx=None\n",
    "            if last == 'd':\n",
    "                idx=0\n",
    "            if last == 'n':\n",
    "                idx=1\n",
    "            if last == 'e':\n",
    "                idx=2\n",
    "            \n",
    "            rgb[idx] = int(pix.split()[0])\n",
    "            if rgb[idx] > maxs[idx]:\n",
    "                    maxs[idx] = rgb[idx]\n",
    "        result.append(rgb)\n",
    "    return maxs, result\n",
    "        \n",
    "\n",
    "\n",
    "def solution_1(data):\n",
    "    games = []\n",
    "\n",
    "    for line in data:\n",
    "        game, rgb = line.split(':')\n",
    "        game = int(game[5:])\n",
    "        maxs, rgbs = zip_rgb(rgb.split(';'))\n",
    "\n",
    "        games.append((game,maxs,rgbs))\n",
    "    #print (games)\n",
    "    solution = []\n",
    "    for game in games:   \n",
    "        if game[1][0] <= 12 and game[1][1] <= 13 and game[1][2] <= 14:\n",
    "            solution.append(game[0])\n",
    "    \n",
    "    return sum(solution)\n",
    "           \n",
    "assert solution_1 (puzzle.data) == 2076\n",
    "      \n",
    "print( f\"Solution 1:  {solution_1 (puzzle.data)} is the sum od the IDs of the valid games\")\n"
   ]
  },
  {
   "cell_type": "code",
   "execution_count": 36,
   "id": "8b632fd5-4fa0-4b72-b448-b03007444aba",
   "metadata": {},
   "outputs": [
    {
     "data": {
      "text/markdown": [
       "## --- Part Two ---\n",
       "\n",
       "\n",
       "The Elf says they've stopped producing snow because they aren't getting any **water** ! He isn't sure why the water stopped; however, he can show you how to get to the water source to check it out for yourself. It's just up ahead!\n",
       "\n",
       "\n",
       "As you continue your walk, the Elf poses a second question: in each game you played, what is the **fewest number of cubes of each color** that could have been in the bag to make the game possible?\n",
       "\n",
       "\n",
       "Again consider the example games from earlier:\n",
       "\n",
       "\n",
       "```\n",
       " Game 1: 3 blue, 4 red; 1 red, 2 green, 6 blue; 2 green\n",
       " Game 2: 1 blue, 2 green; 3 green, 4 blue, 1 red; 1 green, 1 blue\n",
       " Game 3: 8 green, 6 blue, 20 red; 5 blue, 4 red, 13 green; 5 green, 1 red\n",
       " Game 4: 1 green, 3 red, 6 blue; 3 green, 6 red; 3 green, 15 blue, 14 red\n",
       " Game 5: 6 red, 1 blue, 3 green; 2 blue, 1 red, 2 green\n",
       "\n",
       "```\n",
       "\n",
       "\n",
       "+ In game 1, the game could have been played with as few as 4 red, 2 green, and 6 blue cubes. If any color had even one fewer cube, the game would have been impossible.\n",
       "+ Game 2 could have been played with a minimum of 1 red, 3 green, and 4 blue cubes.+ + Game 3 must have been played with at least 20 red, 13 green, and 6 blue cubes.\n",
       "+ Game 4 required at least 14 red, 3 green, and 15 blue cubes.\n",
       "+ Game 5 needed no fewer than 6 red, 3 green, and 2 blue cubes in the bag.\n",
       "\n",
       "\n",
       "\n",
       "\n",
       "The **power** of a set of cubes is equal to the numbers of red, green, and blue cubes multiplied together. The power of the minimum set of cubes in game 1 is48``. In games 2-5 it was12``,1560``,630``, and36``, respectively. Adding up these five powers produces the sum2286``.\n",
       "\n",
       "\n",
       "For each game, find the minimum set of cubes that must have been present. **What is the sum of the power of these sets?** \n",
       "\n",
       "\n"
      ]
     },
     "metadata": {},
     "output_type": "display_data"
    }
   ],
   "source": [
    "from tools import show_problem_2\n",
    "show_problem_2(puzzle)"
   ]
  },
  {
   "cell_type": "code",
   "execution_count": 48,
   "id": "4881c2c6-fa6d-49ee-8d5f-47006b362c9c",
   "metadata": {},
   "outputs": [
    {
     "name": "stdout",
     "output_type": "stream",
     "text": [
      "Solution 1:  70950 is the sum od the IDs of the valid games\n"
     ]
    }
   ],
   "source": [
    "def solution_2(data):\n",
    "    games = []\n",
    "\n",
    "    for line in data:\n",
    "        game, rgb = line.split(':')\n",
    "        game = int(game[5:])\n",
    "        maxs, rgbs = zip_rgb(rgb.split(';'))\n",
    "\n",
    "        games.append((game,maxs,rgbs))\n",
    "    #print (games)\n",
    "    solution = []\n",
    "    for game in games:   \n",
    "        solution.append(reduce(mul, game[1]))\n",
    "    \n",
    "    return sum(solution)\n",
    "           \n",
    "#assert solution_1 (puzzle.data) == 2076\n",
    "      \n",
    "print( f\"Solution 1:  {solution_2 (puzzle.data)} is the sum od the IDs of the valid games\")"
   ]
  },
  {
   "cell_type": "code",
   "execution_count": 44,
   "id": "ab76ee01-79d9-4c03-aab4-9709937c4468",
   "metadata": {},
   "outputs": [],
   "source": [
    "from functools import reduce\n",
    "product = reduce(mul, [1, 2, 3, 4])"
   ]
  },
  {
   "cell_type": "code",
   "execution_count": 45,
   "id": "5957e8ea-adf5-49d9-8504-2d25c62600df",
   "metadata": {},
   "outputs": [
    {
     "name": "stdout",
     "output_type": "stream",
     "text": [
      "24\n"
     ]
    }
   ],
   "source": [
    "from operator import mul\n",
    "print (product)"
   ]
  },
  {
   "cell_type": "code",
   "execution_count": null,
   "id": "6541a2ee-c512-4e18-9729-84f695e5dfb8",
   "metadata": {},
   "outputs": [],
   "source": []
  }
 ],
 "metadata": {
  "kernelspec": {
   "display_name": "Python 3 (ipykernel)",
   "language": "python",
   "name": "python3"
  },
  "language_info": {
   "codemirror_mode": {
    "name": "ipython",
    "version": 3
   },
   "file_extension": ".py",
   "mimetype": "text/x-python",
   "name": "python",
   "nbconvert_exporter": "python",
   "pygments_lexer": "ipython3",
   "version": "3.10.8"
  }
 },
 "nbformat": 4,
 "nbformat_minor": 5
}
