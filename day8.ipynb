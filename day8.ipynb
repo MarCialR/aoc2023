{
 "cells": [
  {
   "cell_type": "code",
   "execution_count": 1,
   "metadata": {},
   "outputs": [
    {
     "name": "stdout",
     "output_type": "stream",
     "text": [
      "downloading html.../n\n",
      "Note: Puzzle inputs differ by user\n",
      "Place your puzzle data in a file ./data/puzzle8.txt in the data folder\n",
      "Note: Puzzle inputs differ by user\n",
      "Place your puzzle data in a file ./data/test8.txt in the data folder\n"
     ]
    },
    {
     "data": {
      "text/markdown": [
       "https://adventofcode.com/2023/day/8\n",
       "## --- Day 8: Haunted Wasteland ---\n",
       "\n",
       "\n",
       "You're still riding a camel across Desert Island when you spot a sandstorm quickly approaching. When you turn to warn the Elf, she disappears before your eyes! To be fair, she had just finished warning you about **ghosts** a few minutes ago.\n",
       "\n",
       "\n",
       "One of the camel's pouches is labeled \"maps\" - sure enough, it's full of documents (your puzzle input) about how to navigate the desert. At least, you're pretty sure that's what they are; one of the documents contains a list of left/right instructions, and the rest of the documents seem to describe some kind of **network** of labeled nodes.\n",
       "\n",
       "\n",
       "It seems like you're meant to use the **left/right** instructions to **navigate the network** . Perhaps if you have the camel follow the same instructions, you can escape the haunted wasteland!\n",
       "\n",
       "\n",
       "After examining the maps for a bit, two nodes stick out:AAA``andZZZ``. You feel likeAAA``is where you are now, and you have to follow the left/right instructions until you reachZZZ``.\n",
       "\n",
       "\n",
       "This format defines each **node** of the network individually. For example:\n",
       "\n",
       "\n",
       "```\n",
       " RL\n",
       " \n",
       " AAA = (BBB, CCC)\n",
       " BBB = (DDD, EEE)\n",
       " CCC = (ZZZ, GGG)\n",
       " DDD = (DDD, DDD)\n",
       " EEE = (EEE, EEE)\n",
       " GGG = (GGG, GGG)\n",
       " ZZZ = (ZZZ, ZZZ)\n",
       "\n",
       "```\n",
       "\n",
       "\n",
       "Starting withAAA``, you need to **look up the next element** based on the next left/right instruction in your input. In this example, start withAAA``and go **right** (R``) by choosing the right element ofAAA``,CCC``. Then,L``means to choose the **left** element ofCCC``,ZZZ``. By following the left/right instructions, you reachZZZ``in2``steps.\n",
       "\n",
       "\n",
       "Of course, you might not findZZZ``right away. If you run out of left/right instructions, repeat the whole sequence of instructions as necessary:RL``really meansRLRLRLRLRLRLRLRL...``and so on. For example, here is a situation that takes6``steps to reachZZZ``:\n",
       "\n",
       "\n",
       "```\n",
       " LLR\n",
       " \n",
       " AAA = (BBB, BBB)\n",
       " BBB = (AAA, ZZZ)\n",
       " ZZZ = (ZZZ, ZZZ)\n",
       "\n",
       "```\n",
       "\n",
       "\n",
       "Starting atAAA``, follow the left/right instructions. **How many steps are required to reachZZZ``?** \n",
       "\n",
       "\n"
      ]
     },
     "metadata": {},
     "output_type": "display_data"
    }
   ],
   "source": [
    "from tools import get_puzzle, show_problem_1, show_problem_2\n",
    "\n",
    "TODAY = 8\n",
    "puzzle = get_puzzle(TODAY)\n",
    "show_problem_1(puzzle)"
   ]
  },
  {
   "cell_type": "code",
   "execution_count": null,
   "metadata": {},
   "outputs": [],
   "source": []
  }
 ],
 "metadata": {
  "kernelspec": {
   "display_name": "Python 3",
   "language": "python",
   "name": "python3"
  },
  "language_info": {
   "codemirror_mode": {
    "name": "ipython",
    "version": 3
   },
   "file_extension": ".py",
   "mimetype": "text/x-python",
   "name": "python",
   "nbconvert_exporter": "python",
   "pygments_lexer": "ipython3",
   "version": "3.9.2"
  },
  "orig_nbformat": 4
 },
 "nbformat": 4,
 "nbformat_minor": 2
}
