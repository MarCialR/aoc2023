{
 "cells": [
  {
   "cell_type": "code",
   "execution_count": 2,
   "metadata": {},
   "outputs": [
    {
     "data": {
      "text/markdown": [
       "https://adventofcode.com/2023/day/18\n",
       "## --- Day 18: Lavaduct Lagoon ---\n",
       "\n",
       "\n",
       "Thanks to your efforts, the machine parts factory is one of the first factories up and running since the lavafall came back. However, to catch up with the large backlog of parts requests, the factory will also need a **large supply of lava** for a while; the Elves have already started creating a large lagoon nearby for this purpose.\n",
       "\n",
       "\n",
       "However, they aren't sure the lagoon will be big enough; they've asked you to take a look at the **dig plan** (your puzzle input). For example:\n",
       "\n",
       "\n",
       "```\n",
       " R 6 (#70c710)\n",
       " D 5 (#0dc571)\n",
       " L 2 (#5713f0)\n",
       " D 2 (#d2c081)\n",
       " R 2 (#59c680)\n",
       " D 2 (#411b91)\n",
       " L 5 (#8ceee2)\n",
       " U 2 (#caa173)\n",
       " L 1 (#1b58a2)\n",
       " U 2 (#caa171)\n",
       " R 2 (#7807d2)\n",
       " U 3 (#a77fa3)\n",
       " L 2 (#015232)\n",
       " U 2 (#7a21e3)\n",
       "\n",
       "```\n",
       "\n",
       "\n",
       "The digger starts in a 1 meter cube hole in the ground. They then dig the specified number of meters **up** (U``), **down** (D``), **left** (L``), or **right** (R``), clearing full 1 meter cubes as they go. The directions are given as seen from above, so if \"up\" were north, then \"right\" would be east, and so on. Each trench is also listed with **the color that the edge of the trench should be painted** as an [RGB hexadecimal color code](https://en.wikipedia.org/wiki/RGB_color_model#Numeric_representations) .\n",
       "\n",
       "\n",
       "When viewed from above, the above example dig plan would result in the following loop of **trench** (#``) having been dug out from otherwise **ground-level terrain** (.``):\n",
       "\n",
       "\n",
       "```\n",
       " #######\n",
       " #.....#\n",
       " ###...#\n",
       " ..#...#\n",
       " ..#...#\n",
       " ###.###\n",
       " #...#..\n",
       " ##..###\n",
       " .#....#\n",
       " .######\n",
       "\n",
       "```\n",
       "\n",
       "\n",
       "At this point, the trench could contain 38 cubic meters of lava. However, this is just the edge of the lagoon; the next step is to **dig out the interior** so that it is one meter deep as well:\n",
       "\n",
       "\n",
       "```\n",
       " #######\n",
       " #######\n",
       " #######\n",
       " ..#####\n",
       " ..#####\n",
       " #######\n",
       " #####..\n",
       " #######\n",
       " .######\n",
       " .######\n",
       "\n",
       "```\n",
       "\n",
       "\n",
       "Now, the lagoon can contain a much more respectable62``cubic meters of lava. While the interior is dug out, the edges are also painted according to the color codes in the dig plan.\n",
       "\n",
       "\n",
       "The Elves are concerned the lagoon won't be large enough; if they follow their dig plan, **how many cubic meters of lava could it hold?** \n",
       "\n",
       "\n"
      ]
     },
     "metadata": {},
     "output_type": "display_data"
    }
   ],
   "source": [
    "from tools import get_puzzle, show_problem_1, show_problem_2\n",
    "\n",
    "TODAY = 18\n",
    "puzzle = get_puzzle(TODAY)\n",
    "show_problem_1(puzzle)"
   ]
  },
  {
   "cell_type": "code",
   "execution_count": null,
   "metadata": {},
   "outputs": [],
   "source": []
  }
 ],
 "metadata": {
  "kernelspec": {
   "display_name": "Python 3",
   "language": "python",
   "name": "python3"
  },
  "language_info": {
   "codemirror_mode": {
    "name": "ipython",
    "version": 3
   },
   "file_extension": ".py",
   "mimetype": "text/x-python",
   "name": "python",
   "nbconvert_exporter": "python",
   "pygments_lexer": "ipython3",
   "version": "3.9.2"
  },
  "orig_nbformat": 4
 },
 "nbformat": 4,
 "nbformat_minor": 2
}
