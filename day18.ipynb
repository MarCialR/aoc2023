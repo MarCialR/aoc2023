{
 "cells": [
  {
   "cell_type": "code",
   "execution_count": 2,
   "metadata": {},
   "outputs": [
    {
     "data": {
      "text/markdown": [
       "https://adventofcode.com/2023/day/18\n",
       "## --- Day 18: Lavaduct Lagoon ---\n",
       "\n",
       "\n",
       "Thanks to your efforts, the machine parts factory is one of the first factories up and running since the lavafall came back. However, to catch up with the large backlog of parts requests, the factory will also need a **large supply of lava** for a while; the Elves have already started creating a large lagoon nearby for this purpose.\n",
       "\n",
       "\n",
       "However, they aren't sure the lagoon will be big enough; they've asked you to take a look at the **dig plan** (your puzzle input). For example:\n",
       "\n",
       "\n",
       "```\n",
       " R 6 (#70c710)\n",
       " D 5 (#0dc571)\n",
       " L 2 (#5713f0)\n",
       " D 2 (#d2c081)\n",
       " R 2 (#59c680)\n",
       " D 2 (#411b91)\n",
       " L 5 (#8ceee2)\n",
       " U 2 (#caa173)\n",
       " L 1 (#1b58a2)\n",
       " U 2 (#caa171)\n",
       " R 2 (#7807d2)\n",
       " U 3 (#a77fa3)\n",
       " L 2 (#015232)\n",
       " U 2 (#7a21e3)\n",
       "\n",
       "```\n",
       "\n",
       "\n",
       "The digger starts in a 1 meter cube hole in the ground. They then dig the specified number of meters **up** (U``), **down** (D``), **left** (L``), or **right** (R``), clearing full 1 meter cubes as they go. The directions are given as seen from above, so if \"up\" were north, then \"right\" would be east, and so on. Each trench is also listed with **the color that the edge of the trench should be painted** as an [RGB hexadecimal color code](https://en.wikipedia.org/wiki/RGB_color_model#Numeric_representations) .\n",
       "\n",
       "\n",
       "When viewed from above, the above example dig plan would result in the following loop of **trench** (#``) having been dug out from otherwise **ground-level terrain** (.``):\n",
       "\n",
       "\n",
       "```\n",
       " #######\n",
       " #.....#\n",
       " ###...#\n",
       " ..#...#\n",
       " ..#...#\n",
       " ###.###\n",
       " #...#..\n",
       " ##..###\n",
       " .#....#\n",
       " .######\n",
       "\n",
       "```\n",
       "\n",
       "\n",
       "At this point, the trench could contain 38 cubic meters of lava. However, this is just the edge of the lagoon; the next step is to **dig out the interior** so that it is one meter deep as well:\n",
       "\n",
       "\n",
       "```\n",
       " #######\n",
       " #######\n",
       " #######\n",
       " ..#####\n",
       " ..#####\n",
       " #######\n",
       " #####..\n",
       " #######\n",
       " .######\n",
       " .######\n",
       "\n",
       "```\n",
       "\n",
       "\n",
       "Now, the lagoon can contain a much more respectable62``cubic meters of lava. While the interior is dug out, the edges are also painted according to the color codes in the dig plan.\n",
       "\n",
       "\n",
       "The Elves are concerned the lagoon won't be large enough; if they follow their dig plan, **how many cubic meters of lava could it hold?** \n",
       "\n",
       "\n"
      ]
     },
     "metadata": {},
     "output_type": "display_data"
    }
   ],
   "source": [
    "from tools import get_puzzle, show_problem_1, show_problem_2\n",
    "\n",
    "TODAY = 18\n",
    "puzzle = get_puzzle(TODAY)\n",
    "show_problem_1(puzzle)"
   ]
  },
  {
   "cell_type": "code",
   "execution_count": 3,
   "metadata": {},
   "outputs": [
    {
     "ename": "KeyError",
     "evalue": "'5'",
     "output_type": "error",
     "traceback": [
      "\u001b[0;31m---------------------------------------------------------------------------\u001b[0m",
      "\u001b[0;31mKeyError\u001b[0m                                  Traceback (most recent call last)",
      "Cell \u001b[0;32mIn[3], line 40\u001b[0m\n\u001b[1;32m     37\u001b[0m     solution \u001b[39m=\u001b[39m \u001b[39mint\u001b[39m((steps\u001b[39m+\u001b[39m\u001b[39m1\u001b[39m)\u001b[39m/\u001b[39m\u001b[39m2\u001b[39m)\n\u001b[1;32m     38\u001b[0m     \u001b[39mreturn\u001b[39;00m solution\n\u001b[0;32m---> 40\u001b[0m \u001b[39massert\u001b[39;00m solution_1 (puzzle\u001b[39m.\u001b[39;49mtest, start_test)  \u001b[39m==\u001b[39m \u001b[39m4\u001b[39m\n\u001b[1;32m     41\u001b[0m \u001b[39massert\u001b[39;00m solution_1 (test2, start_test2) \u001b[39m==\u001b[39m \u001b[39m8\u001b[39m\n\u001b[1;32m     42\u001b[0m \u001b[39massert\u001b[39;00m solution_1 (puzzle\u001b[39m.\u001b[39mdata, start_puzzle) \u001b[39m==\u001b[39m \u001b[39m6812\u001b[39m\n",
      "Cell \u001b[0;32mIn[3], line 33\u001b[0m, in \u001b[0;36msolution_1\u001b[0;34m(data, start)\u001b[0m\n\u001b[1;32m     31\u001b[0m steps \u001b[39m=\u001b[39m \u001b[39m0\u001b[39m\n\u001b[1;32m     32\u001b[0m \u001b[39mwhile\u001b[39;00m \u001b[39mnot\u001b[39;00m \u001b[39mnext\u001b[39m \u001b[39m==\u001b[39m start:\n\u001b[0;32m---> 33\u001b[0m     next_next \u001b[39m=\u001b[39m find_next(previous, data, \u001b[39mnext\u001b[39;49m)\n\u001b[1;32m     34\u001b[0m     previous \u001b[39m=\u001b[39m \u001b[39mnext\u001b[39m\n\u001b[1;32m     35\u001b[0m     \u001b[39mnext\u001b[39m \u001b[39m=\u001b[39m next_next\n",
      "Cell \u001b[0;32mIn[3], line 22\u001b[0m, in \u001b[0;36mfind_next\u001b[0;34m(p, data, n)\u001b[0m\n\u001b[1;32m     20\u001b[0m \u001b[39mdef\u001b[39;00m \u001b[39mfind_next\u001b[39m(p, data, n):\n\u001b[1;32m     21\u001b[0m     char \u001b[39m=\u001b[39m data[n[\u001b[39m0\u001b[39m]][n[\u001b[39m1\u001b[39m]] \n\u001b[0;32m---> 22\u001b[0m     pipe_nexts \u001b[39m=\u001b[39m PIPES[char]\n\u001b[1;32m     23\u001b[0m     \u001b[39mfor\u001b[39;00m possible \u001b[39min\u001b[39;00m pipe_nexts:\n\u001b[1;32m     24\u001b[0m         nn \u001b[39m=\u001b[39m (n[\u001b[39m0\u001b[39m]\u001b[39m+\u001b[39mpossible[\u001b[39m0\u001b[39m], n[\u001b[39m1\u001b[39m]\u001b[39m+\u001b[39mpossible[\u001b[39m1\u001b[39m])\n",
      "\u001b[0;31mKeyError\u001b[0m: '5'"
     ]
    }
   ],
   "source": [
    "start_test = (1,1)\n",
    "start_test2 = (2,0)\n",
    "start_puzzle = (111,14)\n",
    "\n",
    "test2 = \"\"\"\n",
    "..F7.\n",
    ".FJ|.\n",
    "FJ.L7\n",
    "|F--J\n",
    "LJ...\"\"\".splitlines()[1:]\n",
    "\n",
    "PIPES = {\n",
    "\"|\":[(-1,0),(1,0)], #is a vertical pipe connecting north and south.\n",
    "\"-\":[(0,-1),(0,1)], #is a horizontal pipe connecting east and west.\n",
    "\"L\":[(-1,0),(0,1)], #is a 90-degree bend connecting north and east.\n",
    "\"J\":[(-1,0),(0,-1)], #is a 90-degree bend connecting north and west.\n",
    "\"7\":[(0,-1),(1,0)], #is a 90-degree bend connecting south and west.\n",
    "\"F\":[(0,1),(1,0)]} #is a 90-degree bend connecting south and east.\n",
    "\n",
    "def find_next(p, data, n):\n",
    "    char = data[n[0]][n[1]] \n",
    "    pipe_nexts = PIPES[char]\n",
    "    for possible in pipe_nexts:\n",
    "        nn = (n[0]+possible[0], n[1]+possible[1])\n",
    "        if not nn == p:\n",
    "            return nn\n",
    "\n",
    "def solution_1(data, start):\n",
    "    previous = start\n",
    "    next = (start[0],start[1]+1)\n",
    "    steps = 0\n",
    "    while not next == start:\n",
    "        next_next = find_next(previous, data, next)\n",
    "        previous = next\n",
    "        next = next_next\n",
    "        steps += 1\n",
    "    solution = int((steps+1)/2)\n",
    "    return solution\n",
    "\n",
    "assert solution_1 (puzzle.test, start_test)  == 4\n",
    "assert solution_1 (test2, start_test2) == 8\n",
    "assert solution_1 (puzzle.data, start_puzzle) == 6812\n",
    "\n",
    "print( f\"Solution 1:  it takes {solution_1 (puzzle.data, start_puzzle)} steps along the loop to get from the starting position to the point farthest from the starting position\") # 13623 0.1s"
   ]
  }
 ],
 "metadata": {
  "kernelspec": {
   "display_name": "Python 3",
   "language": "python",
   "name": "python3"
  },
  "language_info": {
   "codemirror_mode": {
    "name": "ipython",
    "version": 3
   },
   "file_extension": ".py",
   "mimetype": "text/x-python",
   "name": "python",
   "nbconvert_exporter": "python",
   "pygments_lexer": "ipython3",
   "version": "3.11.6"
  },
  "orig_nbformat": 4,
  "vscode": {
   "interpreter": {
    "hash": "916dbcbb3f70747c44a77c7bcd40155683ae19c65e1c03b4aa3499c5328201f1"
   }
  }
 },
 "nbformat": 4,
 "nbformat_minor": 2
}
