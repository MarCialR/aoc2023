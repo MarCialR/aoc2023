{
 "cells": [
  {
   "cell_type": "code",
   "execution_count": 1,
   "metadata": {},
   "outputs": [
    {
     "name": "stdout",
     "output_type": "stream",
     "text": [
      "downloading html.../n\n",
      "Note: Puzzle inputs differ by user\n",
      "Place your puzzle data in a file ./data/puzzle23.txt in the data folder\n",
      "Note: Puzzle inputs differ by user\n",
      "Place your puzzle data in a file ./data/test23.txt in the data folder\n"
     ]
    },
    {
     "data": {
      "text/markdown": [
       "https://adventofcode.com/2023/day/23\n",
       "## --- Day 23: A Long Walk ---\n",
       "\n",
       "\n",
       "The Elves resume water filtering operations! Clean water starts flowing over the edge of Island Island.\n",
       "\n",
       "\n",
       "They offer to help **you** go over the edge of Island Island, too! Justhold on tightto one end of this impossibly long rope and they'll lower you down a safe distance from the massive waterfall you just created.\n",
       "\n",
       "\n",
       "As you finally reach Snow Island, you see that the water isn't really reaching the ground: it's being **absorbed by the air** itself. It looks like you'll finally have a little downtime while the moisture builds up to snow-producing levels. Snow Island is pretty scenic, even without any snow; why not take a walk?\n",
       "\n",
       "\n",
       "There's a map of nearby hiking trails (your puzzle input) that indicates **paths** (.``), **forest** (#``), and steep **slopes** (^``,>``,v``, and<``).\n",
       "\n",
       "\n",
       "For example:\n",
       "\n",
       "\n",
       "```\n",
       " #.#####################\n",
       " #.......#########...###\n",
       " #######.#########.#.###\n",
       " ###.....#.>.>.###.#.###\n",
       " ###v#####.#v#.###.#.###\n",
       " ###.>...#.#.#.....#...#\n",
       " ###v###.#.#.#########.#\n",
       " ###...#.#.#.......#...#\n",
       " #####.#.#.#######.#.###\n",
       " #.....#.#.#.......#...#\n",
       " #.#####.#.#.#########v#\n",
       " #.#...#...#...###...>.#\n",
       " #.#.#v#######v###.###v#\n",
       " #...#.>.#...>.>.#.###.#\n",
       " #####v#.#.###v#.#.###.#\n",
       " #.....#...#...#.#.#...#\n",
       " #.#########.###.#.#.###\n",
       " #...###...#...#...#.###\n",
       " ###.###.#.###v#####v###\n",
       " #...#...#.#.>.>.#.>.###\n",
       " #.###.###.#.###.#.#v###\n",
       " #.....###...###...#...#\n",
       " #####################.#\n",
       "\n",
       "```\n",
       "\n",
       "\n",
       "You're currently on the single path tile in the top row; your goal is to reach the single path tile in the bottom row. Because of all the mist from the waterfall, the slopes are probably quite **icy** ; if you step onto a slope tile, your next step must be **downhill** (in the direction the arrow is pointing). To make sure you have the most scenic hike possible, **never step onto the same tile twice** . What is the longest hike you can take?\n",
       "\n",
       "\n",
       "In the example above, the longest hike you can take is marked withO``, and your starting position is markedS``:\n",
       "\n",
       "\n",
       "```\n",
       " #S#####################\n",
       " #OOOOOOO#########...###\n",
       " #######O#########.#.###\n",
       " ###OOOOO#OOO>.###.#.###\n",
       " ###O#####O#O#.###.#.###\n",
       " ###OOOOO#O#O#.....#...#\n",
       " ###v###O#O#O#########.#\n",
       " ###...#O#O#OOOOOOO#...#\n",
       " #####.#O#O#######O#.###\n",
       " #.....#O#O#OOOOOOO#...#\n",
       " #.#####O#O#O#########v#\n",
       " #.#...#OOO#OOO###OOOOO#\n",
       " #.#.#v#######O###O###O#\n",
       " #...#.>.#...>OOO#O###O#\n",
       " #####v#.#.###v#O#O###O#\n",
       " #.....#...#...#O#O#OOO#\n",
       " #.#########.###O#O#O###\n",
       " #...###...#...#OOO#O###\n",
       " ###.###.#.###v#####O###\n",
       " #...#...#.#.>.>.#.>O###\n",
       " #.###.###.#.###.#.#O###\n",
       " #.....###...###...#OOO#\n",
       " #####################O#\n",
       "\n",
       "```\n",
       "\n",
       "\n",
       "This hike contains94``steps. (The other possible hikes you could have taken were90``,86``,82``,82``, and74``steps long.)\n",
       "\n",
       "\n",
       "Find the longest hike you can take through the hiking trails listed on your map. **How many steps long is the longest hike?** \n",
       "\n",
       "\n"
      ]
     },
     "metadata": {},
     "output_type": "display_data"
    }
   ],
   "source": [
    "from tools import get_puzzle, show_problem_1, show_problem_2\n",
    "\n",
    "TODAY = 23\n",
    "puzzle = get_puzzle(TODAY)\n",
    "show_problem_1(puzzle)"
   ]
  },
  {
   "cell_type": "code",
   "execution_count": null,
   "metadata": {},
   "outputs": [],
   "source": []
  }
 ],
 "metadata": {
  "kernelspec": {
   "display_name": "Python 3",
   "language": "python",
   "name": "python3"
  },
  "language_info": {
   "codemirror_mode": {
    "name": "ipython",
    "version": 3
   },
   "file_extension": ".py",
   "mimetype": "text/x-python",
   "name": "python",
   "nbconvert_exporter": "python",
   "pygments_lexer": "ipython3",
   "version": "3.11.6 (main, Oct  8 2023, 05:06:43) [GCC 13.2.0]"
  },
  "orig_nbformat": 4,
  "vscode": {
   "interpreter": {
    "hash": "916dbcbb3f70747c44a77c7bcd40155683ae19c65e1c03b4aa3499c5328201f1"
   }
  }
 },
 "nbformat": 4,
 "nbformat_minor": 2
}
