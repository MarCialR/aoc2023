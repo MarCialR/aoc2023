{
 "cells": [
  {
   "cell_type": "code",
   "execution_count": 1,
   "metadata": {},
   "outputs": [
    {
     "name": "stdout",
     "output_type": "stream",
     "text": [
      "downloading html.../n\n",
      "Note: Puzzle inputs differ by user\n",
      "Place your puzzle data in a file ./data/puzzle7.txt in the data folder\n",
      "Note: Puzzle inputs differ by user\n",
      "Place your puzzle data in a file ./data/test7.txt in the data folder\n"
     ]
    },
    {
     "data": {
      "text/markdown": [
       "https://adventofcode.com/2023/day/7\n",
       "## --- Day 7: Camel Cards ---\n",
       "\n",
       "\n",
       "Your all-expenses-paid trip turns out to be a one-way, five-minute ride in an [airship](https://en.wikipedia.org/wiki/Airship) . (At least it's a **cool** airship!) It drops you off at the edge of a vast desert and descends back to Island Island.\n",
       "\n",
       "\n",
       "\"Did you bring the parts?\"\n",
       "\n",
       "\n",
       "You turn around to see an Elf completely covered in white clothing, wearing goggles, and riding a large [camel](https://en.wikipedia.org/wiki/Dromedary) .\n",
       "\n",
       "\n",
       "\"Did you bring the parts?\" she asks again, louder this time. You aren't sure what parts she's looking for; you're here to figure out why the sand stopped.\n",
       "\n",
       "\n",
       "\"The parts! For the sand, yes! Come with me; I will show you.\" She beckons you onto the camel.\n",
       "\n",
       "\n",
       "After riding a bit across the sands of Desert Island, you can see what look like very large rocks covering half of the horizon. The Elf explains that the rocks are all along the part of Desert Island that is directly above Island Island, making it hard to even get there. Normally, they use big machines to move the rocks and filter the sand, but the machines have broken down because Desert Island recently stopped receiving the **parts** they need to fix the machines.\n",
       "\n",
       "\n",
       "You've already assumed it'll be your job to figure out why the parts stopped when she asks if you can help. You agree automatically.\n",
       "\n",
       "\n",
       "Because the journey will take a few days, she offers to teach you the game of **Camel Cards** . Camel Cards is sort of similar to [poker](https://en.wikipedia.org/wiki/List_of_poker_hands) except it's designed to be easier to play while riding a camel.\n",
       "\n",
       "\n",
       "In Camel Cards, you get a list of **hands** , and your goal is to order them based on the **strength** of each hand. A hand consists of **five cards** labeled one ofA``,K``,Q``,J``,T``,9``,8``,7``,6``,5``,4``,3``, or2``. The relative strength of each card follows this order, whereA``is the highest and2``is the lowest.\n",
       "\n",
       "\n",
       "Every hand is exactly one **type** . From strongest to weakest, they are:\n",
       "\n",
       "\n",
       "+  **Five of a kind** , where all five cards have the same label:AAAAA``\n",
       "+  **Four of a kind** , where four cards have the same label and one card has a different label:AA8AA``\n",
       "+  **Full house** , where three cards have the same label, and the remaining two cards share a different label:23332``\n",
       "+  **Three of a kind** , where three cards have the same label, and the remaining two cards are each different from any other card in the hand:TTT98``\n",
       "+  **Two pair** , where two cards share one label, two other cards share a second label, and the remaining card has a third label:23432``\n",
       "+  **One pair** , where two cards share one label, and the other three cards have a different label from the pair and each other:A23A4``\n",
       "+  **High card** , where all cards' labels are distinct:23456``\n",
       "\n",
       "\n",
       "Hands are primarily ordered based on type; for example, every **full house** is stronger than any **three of a kind** .\n",
       "\n",
       "\n",
       "If two hands have the same type, a second ordering rule takes effect. Start by comparing the **first card in each hand** . If these cards are different, the hand with the stronger first card is considered stronger. If the first card in each hand have the **same label** , however, then move on to considering the **second card in each hand** . If they differ, the hand with the higher second card wins; otherwise, continue with the third card in each hand, then the fourth, then the fifth.\n",
       "\n",
       "\n",
       "So,33332``and2AAAA``are both **four of a kind** hands, but33332``is stronger because its first card is stronger. Similarly,77888``and77788``are both a **full house** , but77888``is stronger because its third card is stronger (and both hands have the same first and second card).\n",
       "\n",
       "\n",
       "To play Camel Cards, you are given a list of hands and their corresponding **bid** (your puzzle input). For example:\n",
       "\n",
       "\n",
       "```\n",
       " 32T3K 765\n",
       " T55J5 684\n",
       " KK677 28\n",
       " KTJJT 220\n",
       " QQQJA 483\n",
       "\n",
       "```\n",
       "\n",
       "\n",
       "This example shows five hands; each hand is followed by its **bid** amount. Each hand wins an amount equal to its bid multiplied by its **rank** , where the weakest hand gets rank 1, the second-weakest hand gets rank 2, and so on up to the strongest hand. Because there are five hands in this example, the strongest hand will have rank 5 and its bid will be multiplied by 5.\n",
       "\n",
       "\n",
       "So, the first step is to put the hands in order of strength:\n",
       "\n",
       "\n",
       "+ 32T3K``is the only **one pair** and the other hands are all a stronger type, so it gets rank **1** .\n",
       "+ KK677``andKTJJT``are both **two pair** . Their first cards both have the same label, but the second card ofKK677``is stronger (K``vsT``), soKTJJT``gets rank **2** andKK677``gets rank **3** .\n",
       "+ T55J5``andQQQJA``are both **three of a kind** .QQQJA``has a stronger first card, so it gets rank **5** andT55J5``gets rank **4** .\n",
       "\n",
       "\n",
       "Now, you can determine the total winnings of this set of hands by adding up the result of multiplying each hand's bid with its rank (765``* 1 +220``* 2 +28``* 3 +684``* 4 +483``* 5). So the **total winnings** in this example are6440``.\n",
       "\n",
       "\n",
       "Find the rank of every hand in your set. **What are the total winnings?** \n",
       "\n",
       "\n"
      ]
     },
     "metadata": {},
     "output_type": "display_data"
    }
   ],
   "source": [
    "from tools import get_puzzle, show_problem_1, show_problem_2\n",
    "\n",
    "TODAY = 7\n",
    "puzzle = get_puzzle(TODAY)\n",
    "show_problem_1(puzzle)"
   ]
  },
  {
   "cell_type": "code",
   "execution_count": null,
   "metadata": {},
   "outputs": [],
   "source": []
  }
 ],
 "metadata": {
  "kernelspec": {
   "display_name": "Python 3",
   "language": "python",
   "name": "python3"
  },
  "language_info": {
   "codemirror_mode": {
    "name": "ipython",
    "version": 3
   },
   "file_extension": ".py",
   "mimetype": "text/x-python",
   "name": "python",
   "nbconvert_exporter": "python",
   "pygments_lexer": "ipython3",
   "version": "3.9.2"
  },
  "orig_nbformat": 4
 },
 "nbformat": 4,
 "nbformat_minor": 2
}
