{
 "cells": [
  {
   "cell_type": "code",
   "execution_count": 2,
   "metadata": {},
   "outputs": [
    {
     "data": {
      "text/markdown": [
       "https://adventofcode.com/2023/day/19\n",
       "## --- Day 19: Aplenty ---\n",
       "\n",
       "\n",
       "The Elves of Gear Island are thankful for your help and send you on your way. They even have a hang glider that someone [stole](9) from Desert Island; since you're already going that direction, it would help them a lot if you would use it to get down there and return it to them.\n",
       "\n",
       "\n",
       "As you reach the bottom of the **relentless avalanche of machine parts** , you discover that they're already forming a formidable heap. Don't worry, though - a group of Elves is already here organizing the parts, and they have a **system** .\n",
       "\n",
       "\n",
       "To start, each part is rated in each of four categories:\n",
       "\n",
       "\n",
       "+ x``: E **x** tremely cool looking\n",
       "+ m``: **M** usical (it makes a noise when you hit it)\n",
       "+ a``: **A** erodynamic\n",
       "+ s``: **S** hiny\n",
       "\n",
       "\n",
       "Then, each part is sent through a series of **workflows** that will ultimately **accept** or **reject** the part. Each workflow has a name and contains a list of **rules** ; each rule specifies a condition and where to send the part if the condition is true. The first rule that matches the part being considered is applied immediately, and the part moves on to the destination described by the rule. (The last rule in each workflow has no condition and always applies if reached.)\n",
       "\n",
       "\n",
       "Consider the workflowex{x>10:one,m<20:two,a>30:R,A}``. This workflow is namedex``and contains four rules. If workflowex``were considering a specific part, it would perform the following steps in order:\n",
       "\n",
       "\n",
       "+ Rule \"x>10:one``\": If the part'sx``is more than10``, send the part to the workflow namedone``.\n",
       "+ Rule \"m<20:two``\": Otherwise, if the part'sm``is less than20``, send the part to the workflow namedtwo``.\n",
       "+ Rule \"a>30:R``\": Otherwise, if the part'sa``is more than30``, the part is immediately **rejected** (R``).\n",
       "+ Rule \"A``\": Otherwise, because no other rules matched the part, the part is immediately **accepted** (A``).\n",
       "\n",
       "\n",
       "If a part is sent to another workflow, it immediately switches to the start of that workflow instead and never returns. If a part is **accepted** (sent toA``) or **rejected** (sent toR``), the part immediately stops any further processing.\n",
       "\n",
       "\n",
       "The system works, but it's not keeping up with the torrent of weird metal shapes. The Elves ask if you can help sort a few parts and give you the list of workflows and some part ratings (your puzzle input). For example:\n",
       "\n",
       "\n",
       "```\n",
       " px{a<2006:qkq,m>2090:A,rfg}\n",
       " pv{a>1716:R,A}\n",
       " lnx{m>1548:A,A}\n",
       " rfg{s<537:gd,x>2440:R,A}\n",
       " qs{s>3448:A,lnx}\n",
       " qkq{x<1416:A,crn}\n",
       " crn{x>2662:A,R}\n",
       " in{s<1351:px,qqz}\n",
       " qqz{s>2770:qs,m<1801:hdj,R}\n",
       " gd{a>3333:R,R}\n",
       " hdj{m>838:A,pv}\n",
       " \n",
       " {x=787,m=2655,a=1222,s=2876}\n",
       " {x=1679,m=44,a=2067,s=496}\n",
       " {x=2036,m=264,a=79,s=2244}\n",
       " {x=2461,m=1339,a=466,s=291}\n",
       " {x=2127,m=1623,a=2188,s=1013}\n",
       "\n",
       "```\n",
       "\n",
       "\n",
       "The workflows are listed first, followed by a blank line, then the ratings of the parts the Elves would like you to sort. All parts begin in the workflow namedin``. In this example, the five listed parts go through the following workflows:\n",
       "\n",
       "\n",
       "+ {x=787,m=2655,a=1222,s=2876}``:in``->qqz``->qs``->lnx``->A``\n",
       "+ {x=1679,m=44,a=2067,s=496}``:in``->px``->rfg``->gd``->R``\n",
       "+ {x=2036,m=264,a=79,s=2244}``:in``->qqz``->hdj``->pv``->A``\n",
       "+ {x=2461,m=1339,a=466,s=291}``:in``->px``->qkq``->crn``->R``\n",
       "+ {x=2127,m=1623,a=2188,s=1013}``:in``->px``->rfg``->A``\n",
       "\n",
       "\n",
       "Ultimately, three parts are **accepted** . Adding up thex``,m``,a``, ands``rating for each of the accepted parts gives7540``for the part withx=787``,4623``for the part withx=2036``, and6951``for the part withx=2127``. Adding all of the ratings for **all** of the accepted parts gives the sum total of19114``.\n",
       "\n",
       "\n",
       "Sort through all of the parts you've been given; **what do you get if you add together all of the rating numbers for all of the parts that ultimately get accepted?** \n",
       "\n",
       "\n"
      ]
     },
     "metadata": {},
     "output_type": "display_data"
    }
   ],
   "source": [
    "from tools import get_puzzle, show_problem_1, show_problem_2\n",
    "\n",
    "TODAY = 19\n",
    "puzzle = get_puzzle(TODAY)\n",
    "show_problem_1(puzzle)"
   ]
  },
  {
   "cell_type": "code",
   "execution_count": 3,
   "metadata": {},
   "outputs": [
    {
     "ename": "NameError",
     "evalue": "name 'parse_data' is not defined",
     "output_type": "error",
     "traceback": [
      "\u001b[0;31m---------------------------------------------------------------------------\u001b[0m",
      "\u001b[0;31mNameError\u001b[0m                                 Traceback (most recent call last)",
      "\u001b[1;32m/home/marcialr/repos/AOC/aoc2023/day19.ipynb Cell 2\u001b[0m line \u001b[0;36m8\n\u001b[1;32m      <a href='vscode-notebook-cell:/home/marcialr/repos/AOC/aoc2023/day19.ipynb#W1sZmlsZQ%3D%3D?line=4'>5</a>\u001b[0m         prizes\u001b[39m.\u001b[39mappend(calculate_prize(card))\n\u001b[1;32m      <a href='vscode-notebook-cell:/home/marcialr/repos/AOC/aoc2023/day19.ipynb#W1sZmlsZQ%3D%3D?line=5'>6</a>\u001b[0m     \u001b[39mreturn\u001b[39;00m \u001b[39msum\u001b[39m(prizes)\n\u001b[0;32m----> <a href='vscode-notebook-cell:/home/marcialr/repos/AOC/aoc2023/day19.ipynb#W1sZmlsZQ%3D%3D?line=7'>8</a>\u001b[0m \u001b[39mprint\u001b[39m(solution_1 (puzzle\u001b[39m.\u001b[39;49mtest))\n\u001b[1;32m      <a href='vscode-notebook-cell:/home/marcialr/repos/AOC/aoc2023/day19.ipynb#W1sZmlsZQ%3D%3D?line=8'>9</a>\u001b[0m \u001b[39m#assert solution_1 (puzzle.test) ==13\u001b[39;00m\n\u001b[1;32m     <a href='vscode-notebook-cell:/home/marcialr/repos/AOC/aoc2023/day19.ipynb#W1sZmlsZQ%3D%3D?line=9'>10</a>\u001b[0m \u001b[39m# print( f\"Solution 1:  {solution_1 (puzzle.data)} is the colorful cards total of points\")\u001b[39;00m\n",
      "\u001b[1;32m/home/marcialr/repos/AOC/aoc2023/day19.ipynb Cell 2\u001b[0m line \u001b[0;36m2\n\u001b[1;32m      <a href='vscode-notebook-cell:/home/marcialr/repos/AOC/aoc2023/day19.ipynb#W1sZmlsZQ%3D%3D?line=0'>1</a>\u001b[0m \u001b[39mdef\u001b[39;00m \u001b[39msolution_1\u001b[39m(cards):\n\u001b[0;32m----> <a href='vscode-notebook-cell:/home/marcialr/repos/AOC/aoc2023/day19.ipynb#W1sZmlsZQ%3D%3D?line=1'>2</a>\u001b[0m     cards \u001b[39m=\u001b[39m parse_data(cards)\n\u001b[1;32m      <a href='vscode-notebook-cell:/home/marcialr/repos/AOC/aoc2023/day19.ipynb#W1sZmlsZQ%3D%3D?line=2'>3</a>\u001b[0m     prizes \u001b[39m=\u001b[39m []\n\u001b[1;32m      <a href='vscode-notebook-cell:/home/marcialr/repos/AOC/aoc2023/day19.ipynb#W1sZmlsZQ%3D%3D?line=3'>4</a>\u001b[0m     \u001b[39mfor\u001b[39;00m card \u001b[39min\u001b[39;00m cards:\n",
      "\u001b[0;31mNameError\u001b[0m: name 'parse_data' is not defined"
     ]
    }
   ],
   "source": [
    "def parse_data(raw_data):\n",
    "    pass\n",
    "def solution_1(raw_data):\n",
    "    cards = parse_data(raw_data)\n",
    "    prizes = []\n",
    "    for card in cards:\n",
    "        prizes.append(calculate_prize(card))\n",
    "    return sum(prizes)\n",
    "\n",
    "print(solution_1 (puzzle.test))\n",
    "#assert solution_1 (puzzle.test) ==13\n",
    "# print( f\"Solution 1:  {solution_1 (puzzle.data)} is the colorful cards total of points\")"
   ]
  },
  {
   "cell_type": "code",
   "execution_count": null,
   "metadata": {},
   "outputs": [],
   "source": []
  }
 ],
 "metadata": {
  "kernelspec": {
   "display_name": "Python 3",
   "language": "python",
   "name": "python3"
  },
  "language_info": {
   "codemirror_mode": {
    "name": "ipython",
    "version": 3
   },
   "file_extension": ".py",
   "mimetype": "text/x-python",
   "name": "python",
   "nbconvert_exporter": "python",
   "pygments_lexer": "ipython3",
   "version": "3.9.2"
  },
  "orig_nbformat": 4
 },
 "nbformat": 4,
 "nbformat_minor": 2
}
