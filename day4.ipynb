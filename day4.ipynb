{
 "cells": [
  {
   "cell_type": "code",
   "execution_count": 6,
   "id": "e5a82a81-26b9-4497-9eb1-465d16f35c7a",
   "metadata": {},
   "outputs": [
    {
     "name": "stdout",
     "output_type": "stream",
     "text": [
      "/home/jovyan/work/aoc2023\n"
     ]
    }
   ],
   "source": [
    "!pwd # under linux/mac\n",
    "https://github.com/ipython/ipython/issues/10123#issuecomment-271334096"
   ]
  },
  {
   "cell_type": "code",
   "execution_count": 4,
   "id": "2264d2dd-ceee-4641-94d3-3af4a6936265",
   "metadata": {},
   "outputs": [
    {
     "data": {
      "text/markdown": [
       "https://adventofcode.com/2023/day/4\n",
       "## --- Day 4: Scratchcards ---\n",
       "\n",
       "\n",
       "The gondola takes you up. Strangely, though, the ground doesn't seem to be coming with you; you're not climbing a mountain. As the circle of Snow Island recedes below you, an entire new landmass suddenly appears above you! The gondola carries you to the surface of the new island and lurches into the station.\n",
       "\n",
       "\n",
       "As you exit the gondola, the first thing you notice is that the air here is much **warmer** than it was on Snow Island. It's also quite **humid** . Is this where the water source is?\n",
       "\n",
       "\n",
       "The next thing you notice is an Elf sitting on the floor across the station in what seems to be a pile of colorful square cards.\n",
       "\n",
       "\n",
       "\"Oh! Hello!\" The Elf excitedly runs over to you. \"How may I be of service?\" You ask about water sources.\n",
       "\n",
       "\n",
       "\"I'm not sure; I just operate the gondola lift. That does sound like something we'd have, though - this is **Island Island** , after all! I bet the **gardener** would know. He's on a different island, though - er, the small kind surrounded by water, not the floating kind. We really need to come up with a better naming scheme. Tell you what: if you can help me with something quick, I'll let you **borrow my boat** and you can go visit the gardener. I got all these [scratchcards](https://en.wikipedia.org/wiki/Scratchcard) as a gift, but I can't figure out what I've won.\"\n",
       "\n",
       "\n",
       "The Elf leads you over to the pile of colorful cards. There, you discover dozens of scratchcards, all with their opaque covering already scratched off. Picking one up, it looks like each card has two lists of numbers separated by a vertical bar (|``): a list of **winning numbers** and then a list of **numbers you have** . You organize the information into a table (your puzzle input).\n",
       "\n",
       "\n",
       "As far as the Elf has been able to figure out, you have to figure out which of the **numbers you have** appear in the list of **winning numbers** . The first match makes the card worth **one point** and each match after the first **doubles** the point value of that card.\n",
       "\n",
       "\n",
       "For example:\n",
       "\n",
       "\n",
       "```\n",
       " Card 1: 41 48 83 86 17 | 83 86  6 31 17  9 48 53\n",
       " Card 2: 13 32 20 16 61 | 61 30 68 82 17 32 24 19\n",
       " Card 3:  1 21 53 59 44 | 69 82 63 72 16 21 14  1\n",
       " Card 4: 41 92 73 84 69 | 59 84 76 51 58  5 54 83\n",
       " Card 5: 87 83 26 28 32 | 88 30 70 12 93 22 82 36\n",
       " Card 6: 31 18 13 56 72 | 74 77 10 23 35 67 36 11\n",
       "\n",
       "```\n",
       "\n",
       "\n",
       "In the above example, card 1 has five winning numbers (41``,48``,83``,86``, and17``) and eight numbers you have (83``,86``,6``,31``,17``,9``,48``, and53``). Of the numbers you have, four of them (48``,83``,17``, and86``) are winning numbers! That means card 1 is worth8``points (1 for the first match, then doubled three times for each of the three matches after the first).\n",
       "\n",
       "\n",
       "+ Card 2 has two winning numbers (32``and61``), so it is worth2``points.\n",
       "+ Card 3 has two winning numbers (1``and21``), so it is worth2``points.\n",
       "+ Card 4 has one winning number (84``), so it is worth1``point.\n",
       "+ Card 5 has no winning numbers, so it is worth no points.\n",
       "+ Card 6 has no winning numbers, so it is worth no points.\n",
       "\n",
       "\n",
       "So, in this example, the Elf's pile of scratchcards is worth13``points.\n",
       "\n",
       "\n",
       "Take a seat in the large pile of colorful cards. **How many points are they worth in total?** \n",
       "\n",
       "\n"
      ]
     },
     "metadata": {},
     "output_type": "display_data"
    }
   ],
   "source": [
    "from tools import get_puzzle, show_problem_1, show_problem_2\n",
    "\n",
    "TODAY = 4\n",
    "puzzle = get_puzzle(TODAY)\n",
    "show_problem_1(puzzle)"
   ]
  },
  {
   "cell_type": "code",
   "execution_count": 3,
   "id": "4c0f0ab2-9c37-401b-9d08-057a107d32c2",
   "metadata": {},
   "outputs": [
    {
     "name": "stdout",
     "output_type": "stream",
     "text": [
      "Solution 1:  18619 is the colorful cards total of points\n"
     ]
    }
   ],
   "source": [
    "def parse_data(data):\n",
    "    new_data = []\n",
    "    for row, card in enumerate(data):\n",
    "        new_data.append([row+1, \n",
    "                         set( map (int, card.split(\":\")[1].split(\"|\")[0].split()) ),\n",
    "                        set( map (int, card.split(\":\")[1].split(\"|\")[1].split()) )])\n",
    "    return new_data\n",
    "\n",
    "def calculate_prize(card):\n",
    "    prize = 0\n",
    "    for num in card[2]:\n",
    "        if num in card[1]:\n",
    "            if prize == 0:\n",
    "                prize = 1\n",
    "            else:\n",
    "                prize *= 2\n",
    "    return prize\n",
    "    \n",
    "def solution_1(cards):\n",
    "    cards = parse_data(cards)\n",
    "    prizes = []\n",
    "    for card in cards:\n",
    "        prizes.append(calculate_prize(card))\n",
    "    return sum(prizes)\n",
    "\n",
    "#print(solution_1 (puzzle.test))\n",
    "assert solution_1 (puzzle.test) ==13\n",
    "print( f\"Solution 1:  {solution_1 (puzzle.data)} is the colorful cards total of points\")\n"
   ]
  },
  {
   "cell_type": "code",
   "execution_count": 5,
   "id": "58e1c1a6-77f8-415a-a5d9-bfb965cbe683",
   "metadata": {},
   "outputs": [
    {
     "data": {
      "text/markdown": [
       "## --- Part Two ---\n",
       "\n",
       "\n",
       "Just as you're about to report your findings to the Elf, one of you realizes that the rules have actually been printed on the back of every card this whole time.\n",
       "\n",
       "\n",
       "There's no such thing as \"points\". Instead, scratchcards only cause you to **win more scratchcards** equal to the number of winning numbers you have.\n",
       "\n",
       "\n",
       "Specifically, you win **copies** of the scratchcards below the winning card equal to the number of matches. So, if card 10 were to have 5 matching numbers, you would win one copy each of cards 11, 12, 13, 14, and 15.\n",
       "\n",
       "\n",
       "Copies of scratchcards are scored like normal scratchcards and have the **same card number** as the card they copied. So, if you win a copy of card 10 and it has 5 matching numbers, it would then win a copy of the same cards that the original card 10 won: cards 11, 12, 13, 14, and 15. This process repeats until none of the copies cause you to win any more cards. (Cards will never make you copy a card past the end of the table.)\n",
       "\n",
       "\n",
       "This time, the above example goes differently:\n",
       "\n",
       "\n",
       "```\n",
       " Card 1: 41 48 83 86 17 | 83 86  6 31 17  9 48 53\n",
       " Card 2: 13 32 20 16 61 | 61 30 68 82 17 32 24 19\n",
       " Card 3:  1 21 53 59 44 | 69 82 63 72 16 21 14  1\n",
       " Card 4: 41 92 73 84 69 | 59 84 76 51 58  5 54 83\n",
       " Card 5: 87 83 26 28 32 | 88 30 70 12 93 22 82 36\n",
       " Card 6: 31 18 13 56 72 | 74 77 10 23 35 67 36 11\n",
       "\n",
       "```\n",
       "\n",
       "\n",
       "+ Card 1 has four matching numbers, so you win one copy each of the next four cards: cards 2, 3, 4, and 5.\n",
       "+ Your original card 2 has two matching numbers, so you win one copy each of cards 3 and 4.\n",
       "+ Your copy of card 2 also wins one copy each of cards 3 and 4.\n",
       "+ Your four instances of card 3 (one original and three copies) have two matching numbers, so you win **four** copies each of cards 4 and 5.\n",
       "+ Your eight instances of card 4 (one original and seven copies) have one matching number, so you win **eight** copies of card 5.\n",
       "+ Your fourteen instances of card 5 (one original and thirteen copies) have no matching numbers and win no more cards.\n",
       "+ Your one instance of card 6 (one original) has no matching numbers and wins no more cards.\n",
       "\n",
       "\n",
       "Once all of the originals and copies have been processed, you end up with1``instance of card 1,2``instances of card 2,4``instances of card 3,8``instances of card 4,14``instances of card 5, and1``instance of card 6. In total, this example pile of scratchcards causes you to ultimately have30``scratchcards!\n",
       "\n",
       "\n",
       "Process all of the original and copied scratchcards until no more scratchcards are won. Including the original set of scratchcards, **how many total scratchcards do you end up with?** \n",
       "\n",
       "\n"
      ]
     },
     "metadata": {},
     "output_type": "display_data"
    }
   ],
   "source": [
    "show_problem_2(puzzle)"
   ]
  },
  {
   "cell_type": "code",
   "execution_count": 22,
   "id": "06d111f9-da4b-4fa7-b77d-752bf7cc0fd5",
   "metadata": {},
   "outputs": [
    {
     "name": "stdout",
     "output_type": "stream",
     "text": [
      "Solution 1:  8063216 is how many colorful cards we ended up with\n"
     ]
    }
   ],
   "source": [
    "def parse_data(data):\n",
    "    new_data = []\n",
    "    for row, card in enumerate(data):\n",
    "        num_cards = 1\n",
    "        new_data.append([row, num_cards, \n",
    "                         set( map (int, card.split(\":\")[1].split(\"|\")[0].split()) ),\n",
    "                        set( map (int, card.split(\":\")[1].split(\"|\")[1].split()) )])\n",
    "    return new_data\n",
    "\n",
    "def calculate_prize(card):\n",
    "    prize = 0\n",
    "    for num in card[3]:\n",
    "        if num in card[2]:\n",
    "            prize += 1\n",
    "    return prize\n",
    "    \n",
    "def solution_2(cards):\n",
    "    cards = parse_data(cards)\n",
    "    solution = []\n",
    "    solution.append(1)\n",
    "    for i in range(len(cards)):\n",
    "        curr_card_row = cards[i][0]\n",
    "        curr_card_row_num_cards = cards[i][1]\n",
    "        prizes = calculate_prize(cards[i])\n",
    "        #print(f\"Card {cards[i]} has won {prizes}\")\n",
    "        for a in range(prizes):\n",
    "            if a < len(cards):\n",
    "                cards[a+1+curr_card_row][1] += curr_card_row_num_cards\n",
    "        \n",
    "        \n",
    "    return sum([card[1] for card in cards])\n",
    "\n",
    "assert solution_2 (puzzle.test) == 30\n",
    "print( f\"Solution 1:  {solution_2 (puzzle.data)} is how many colorful cards we ended up with\")"
   ]
  },
  {
   "cell_type": "code",
   "execution_count": null,
   "id": "930abdaa-0b85-46eb-8a64-a7baf99249eb",
   "metadata": {},
   "outputs": [],
   "source": []
  }
 ],
 "metadata": {
  "kernelspec": {
   "display_name": "Python 3 (ipykernel)",
   "language": "python",
   "name": "python3"
  },
  "language_info": {
   "codemirror_mode": {
    "name": "ipython",
    "version": 3
   },
   "file_extension": ".py",
   "mimetype": "text/x-python",
   "name": "python",
   "nbconvert_exporter": "python",
   "pygments_lexer": "ipython3",
   "version": "3.10.8"
  }
 },
 "nbformat": 4,
 "nbformat_minor": 5
}
