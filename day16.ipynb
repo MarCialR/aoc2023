{
 "cells": [
  {
   "cell_type": "code",
   "execution_count": 1,
   "metadata": {},
   "outputs": [
    {
     "name": "stdout",
     "output_type": "stream",
     "text": [
      "downloading html.../n\n"
     ]
    },
    {
     "data": {
      "text/markdown": [
       "https://adventofcode.com/2023/day/16\n",
       "## --- Day 16: The Floor Will Be Lava ---\n",
       "\n",
       "\n",
       "With the beam of light completely focused **somewhere** , the reindeer leads you deeper still into the Lava Production Facility. At some point, you realize that the steel facility walls have been replaced with cave, and the doorways are just cave, and the floor is cave, and you're pretty sure this is actually just a giant cave.\n",
       "\n",
       "\n",
       "Finally, as you approach what must be the heart of the mountain, you see a bright light in a cavern up ahead. There, you discover that thebeamof light you so carefully focused is emerging from the cavern wall closest to the facility and pouring all of its energy into a contraption on the opposite side.\n",
       "\n",
       "\n",
       "Upon closer inspection, the contraption appears to be a flat, two-dimensional square grid containing **empty space** (.``), **mirrors** (/``and\\``), and **splitters** (|``and-``).\n",
       "\n",
       "\n",
       "The contraption is aligned so that most of the beam bounces around the grid, but each tile on the grid converts some of the beam's light into **heat** to melt the rock in the cavern.\n",
       "\n",
       "\n",
       "You note the layout of the contraption (your puzzle input). For example:\n",
       "\n",
       "\n",
       "```\n",
       " .|...\\....\n",
       " |.-.\\.....\n",
       " .....|-...\n",
       " ........|.\n",
       " ..........\n",
       " .........\\\n",
       " ..../.\\\\..\n",
       " .-.-/..|..\n",
       " .|....-|.\\\n",
       " ..//.|....\n",
       "\n",
       "```\n",
       "\n",
       "\n",
       "The beam enters in the top-left corner from the left and heading to the **right** . Then, its behavior depends on what it encounters as it moves:\n",
       "\n",
       "\n",
       "+ If the beam encounters **empty space** (.``), it continues in the same direction.\n",
       "+ If the beam encounters a **mirror** (/``or\\``), the beam is **reflected** 90 degrees depending on the angle of the mirror. For instance, a rightward-moving beam that encounters a/``mirror would continue **upward** in the mirror's column, while a rightward-moving beam that encounters a\\``mirror would continue **downward** from the mirror's column.\n",
       "+ If the beam encounters the **pointy end of a splitter** (|``or-``), the beam passes through the splitter as if the splitter were **empty space** . For instance, a rightward-moving beam that encounters a-``splitter would continue in the same direction.\n",
       "+ If the beam encounters the **flat side of a splitter** (|``or-``), the beam is **split into two beams** going in each of the two directions the splitter's pointy ends are pointing. For instance, a rightward-moving beam that encounters a|``splitter would split into two beams: one that continues **upward** from the splitter's column and one that continues **downward** from the splitter's column.\n",
       "\n",
       "\n",
       "Beams do not interact with other beams; a tile can have many beams passing through it at the same time. A tile is **energized** if that tile has at least one beam pass through it, reflect in it, or split in it.\n",
       "\n",
       "\n",
       "In the above example, here is how the beam of light bounces around the contraption:\n",
       "\n",
       "\n",
       "```\n",
       " >|<<<\\....\n",
       " |v-.\\^....\n",
       " .v...|->>>\n",
       " .v...v^.|.\n",
       " .v...v^...\n",
       " .v...v^..\\\n",
       " .v../2\\\\..\n",
       " <->-/vv|..\n",
       " .|<<<2-|.\\\n",
       " .v//.|.v..\n",
       "\n",
       "```\n",
       "\n",
       "\n",
       "Beams are only shown on empty tiles; arrows indicate the direction of the beams. If a tile contains beams moving in multiple directions, the number of distinct directions is shown instead. Here is the same diagram but instead only showing whether a tile is **energized** (#``) or not (.``):\n",
       "\n",
       "\n",
       "```\n",
       " ######....\n",
       " .#...#....\n",
       " .#...#####\n",
       " .#...##...\n",
       " .#...##...\n",
       " .#...##...\n",
       " .#..####..\n",
       " ########..\n",
       " .#######..\n",
       " .#...#.#..\n",
       "\n",
       "```\n",
       "\n",
       "\n",
       "Ultimately, in this example,46``tiles become **energized** .\n",
       "\n",
       "\n",
       "The light isn't energizing enough tiles to produce lava; to debug the contraption, you need to start by analyzing the current situation. With the beam starting in the top-left heading right, **how many tiles end up being energized?** \n",
       "\n",
       "\n"
      ]
     },
     "metadata": {},
     "output_type": "display_data"
    }
   ],
   "source": [
    "from tools import get_puzzle, show_problem_1, show_problem_2\n",
    "\n",
    "TODAY = 16\n",
    "puzzle = get_puzzle(TODAY)\n",
    "show_problem_1(puzzle)"
   ]
  },
  {
   "cell_type": "code",
   "execution_count": 2,
   "metadata": {},
   "outputs": [
    {
     "ename": "IndentationError",
     "evalue": "expected an indented block (363183055.py, line 7)",
     "output_type": "error",
     "traceback": [
      "\u001b[0;36m  Cell \u001b[0;32mIn[2], line 7\u001b[0;36m\u001b[0m\n\u001b[0;31m    return current\u001b[0m\n\u001b[0m    ^\u001b[0m\n\u001b[0;31mIndentationError\u001b[0m\u001b[0;31m:\u001b[0m expected an indented block\n"
     ]
    }
   ],
   "source": [
    "def move(matrix, dir):\n",
    "    new = []\n",
    "    current = matrix[0]\n",
    "    for i in range(len(matrix)):\n",
    "\n",
    "    \n",
    "    return current\n",
    "\n",
    "\n",
    "def solution_1(raw_data):\n",
    "    move (raw_data, 'up')\n",
    "\n",
    "    \n",
    "    return sum\n",
    "\n",
    "\n",
    "assert solution_1 (puzzle.test) == 136\n",
    "\n",
    "#print( f\"Solution 1:  {solution_1 (puzzle.data)} is the sum of the load caused by all of the rounded rocks\")\n",
    "\n",
    "#assert solution_1 (puzzle.data) == 508498"
   ]
  },
  {
   "cell_type": "code",
   "execution_count": null,
   "metadata": {},
   "outputs": [],
   "source": []
  }
 ],
 "metadata": {
  "kernelspec": {
   "display_name": "Python 3",
   "language": "python",
   "name": "python3"
  },
  "language_info": {
   "codemirror_mode": {
    "name": "ipython",
    "version": 3
   },
   "file_extension": ".py",
   "mimetype": "text/x-python",
   "name": "python",
   "nbconvert_exporter": "python",
   "pygments_lexer": "ipython3",
   "version": "3.9.2"
  },
  "orig_nbformat": 4
 },
 "nbformat": 4,
 "nbformat_minor": 2
}
